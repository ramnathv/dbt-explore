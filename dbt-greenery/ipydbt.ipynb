{
 "cells": [
  {
   "cell_type": "markdown",
   "metadata": {},
   "source": [
    "# Enable DBT-iPy\n",
    "\n",
    "The first step is to load this extension into Jupyter"
   ]
  },
  {
   "cell_type": "code",
   "execution_count": 1,
   "metadata": {},
   "outputs": [],
   "source": [
    "%load_ext dbt-ipy"
   ]
  },
  {
   "cell_type": "markdown",
   "metadata": {},
   "source": [
    "# Connecting to DBT RPC\n",
    "\n",
    "The two most important parameters would be:\n",
    "\n",
    "- ``--port [port_number]`` Passing this parameter will run the DBT RPC on that port. Default is 8580\n",
    "- ``--existing`` This will skip creating a new DBT RPC and instead it will connect to an existing one on the specified port\n",
    "\n",
    "For example:\n",
    "\n",
    "`%dbt rpc` will run the `dbt rpc` command and connect to it. Of course you can pass any parameters dbt accepts such as `--target`\n",
    "\n",
    "`%dbt rpc --existing --port 8580` will connect to a RPC you already got running on port 8580"
   ]
  },
  {
   "cell_type": "code",
   "execution_count": 2,
   "metadata": {},
   "outputs": [
    {
     "data": {
      "text/plain": [
       "<dbt-ipy.dbt_ipy.Querier at 0x7ff8dc5ee6d0>"
      ]
     },
     "execution_count": 2,
     "metadata": {},
     "output_type": "execute_result"
    }
   ],
   "source": [
    "%dbt rpc"
   ]
  },
  {
   "cell_type": "markdown",
   "metadata": {},
   "source": [
    "# Querying the RPC\n",
    "\n",
    "Now that we are connected we can compile and run SQL queries with DBT"
   ]
  },
  {
   "cell_type": "code",
   "execution_count": 4,
   "metadata": {},
   "outputs": [
    {
     "data": {
      "text/plain": [
       "SELECT * FROM dbt.public.orders"
      ]
     },
     "execution_count": 4,
     "metadata": {},
     "output_type": "execute_result"
    }
   ],
   "source": [
    "%%compile_sql\n",
    "SELECT * FROM {{ source('greenery', 'orders')}}"
   ]
  },
  {
   "cell_type": "code",
   "execution_count": 4,
   "metadata": {},
   "outputs": [
    {
     "name": "stdout",
     "output_type": "stream",
     "text": [
      "|         dt |  year | quarter |\n",
      "| ---------- | ----- | ------- |\n",
      "| 2020-01-01 | 2,020 |       1 |\n",
      "| 2021-05-04 | 2,021 |       2 |\n",
      "| 2021-03-01 | 2,021 |       1 |\n"
     ]
    },
    {
     "data": {
      "text/plain": [
       "<agate.table.Table at 0x7fd108215220>"
      ]
     },
     "execution_count": 4,
     "metadata": {},
     "output_type": "execute_result"
    }
   ],
   "source": [
    "%%run_sql\n",
    "# SELECT dt, year, quarter FROM {{ref('calendar')}}\n",
    "# WHERE dt IN ('2020-01-01', '2021-03-01', '2021-05-04')"
   ]
  },
  {
   "cell_type": "markdown",
   "metadata": {},
   "source": [
    "# Working with the results\n",
    "\n",
    "You can access the results of the last cell run with the `_` variable. Running a SQL query will give you an [Agate](https://agate.readthedocs.io/) table that you can work on. For example:"
   ]
  },
  {
   "cell_type": "code",
   "execution_count": 5,
   "metadata": {},
   "outputs": [
    {
     "name": "stdout",
     "output_type": "stream",
     "text": [
      "Number of rows in previous query 3\n",
      "Print only the rows in 2021\n",
      "|         dt |  year | quarter |\n",
      "| ---------- | ----- | ------- |\n",
      "| 2021-05-04 | 2,021 |       2 |\n",
      "| 2021-03-01 | 2,021 |       1 |\n"
     ]
    }
   ],
   "source": [
    "calendar = _\n",
    "print('Number of rows in previous query {}'.format(len(calendar.rows)))\n",
    "print('Print only the rows in 2021')\n",
    "calendar.where(lambda row: row['year'] == 2021).print_table()"
   ]
  },
  {
   "cell_type": "markdown",
   "metadata": {},
   "source": [
    "# Misc\n",
    "\n",
    "Actually the only special command with th `%dbt` magic is `%dbt rpc` but you can run just about anything else like:\n",
    "\n",
    "`%dbt run --target prod --model calendar`\n",
    "\n",
    "This would be the exact same thing as running the command on the command line but might be useful in some cases"
   ]
  }
 ],
 "metadata": {
  "interpreter": {
   "hash": "625c31d6b4db3d7e7e2853cc30dc2062e1cda684f3e49d5f899ae496ae755fe0"
  },
  "kernelspec": {
   "display_name": "Python 3.8.12 64-bit ('3.8.12': pyenv)",
   "name": "python3"
  },
  "language_info": {
   "codemirror_mode": {
    "name": "ipython",
    "version": 3
   },
   "file_extension": ".py",
   "mimetype": "text/x-python",
   "name": "python",
   "nbconvert_exporter": "python",
   "pygments_lexer": "ipython3",
   "version": "3.8.12"
  }
 },
 "nbformat": 4,
 "nbformat_minor": 4
}
