{
 "cells": [
  {
   "cell_type": "markdown",
   "metadata": {},
   "source": [
    "# Week 4: Project"
   ]
  },
  {
   "cell_type": "markdown",
   "metadata": {},
   "source": [
    "### Self Review Questions\n",
    "\n",
    "- ✅ Were you able to answer the product funnel questions?\n",
    "- ✅ Were you able to create an exposure on your product analytics model?"
   ]
  },
  {
   "cell_type": "markdown",
   "metadata": {},
   "source": [
    "#### What was most challenging/surprising in completing this week’s project?\n",
    "\n",
    "It was challenging to figure out how to make deployment work with an orchestrator like Airflow or Dagit. In particular, it was challenging to figure out how to integrate non-SQL tasks into the pipeline.\n"
   ]
  },
  {
   "cell_type": "markdown",
   "metadata": {},
   "source": [
    "### Reflection Questions\n",
    "\n",
    "#### What are `dbt` next steps for you?\n",
    "\n",
    "> 1. If your organization is thinking about using dbt, how would you pitch the value of dbt/analytics engineering to a decision maker at your organization?\n",
    "> 2. If your organization is using dbt, what are 1-2 things you might do differently / recommend to your organization based on learning from this course?\n",
    "> 3. If you are thinking about moving to analytics engineering, what skills have you picked that give you the most confidence in pursuing this next step?\n"
   ]
  },
  {
   "cell_type": "markdown",
   "metadata": {},
   "source": [
    "We already have a home-grown transformation framework which for the most part works like dbt, but additionally supports R and Python models. The key challenge involved in pitching dbt is communicating the additional value it will help unlock over and above what we already have, and justify the effort involved."
   ]
  },
  {
   "cell_type": "markdown",
   "metadata": {},
   "source": [
    "#### Setting up for production / scheduled dbt run of your project \n",
    "\n",
    "> And finally, before you fly free into the dbt night, we will take a step back and reflect: after learning about the various options for dbt deployment and seeing your final dbt project, how would you go about setting up a production/scheduled dbt run of your project in an ideal state? You don’t have to actually set anything up - just jot down what you would do and why and post in a README file.\n",
    "\n",
    "\n",
    "> 1. Wwhat steps would you have? \n",
    "> 2. Which orchestration tool(s) would you be interested in using? \n",
    "> 3. What schedule would you run your project on? \n",
    "> 4. Which metadata would you be interested in using? How/why would you use the specific metadata?"
   ]
  },
  {
   "cell_type": "markdown",
   "metadata": {},
   "source": [
    "Based on the ideas discussed during the course as well as independent research, I was able to orchestrate dbt runs using Dagit and Airflow. With Dagit, I was also able to run a jupyter notebook, which created data for a dashboard exposure. I was able to create the dashboard using `streamlit` and deployed it in production."
   ]
  },
  {
   "cell_type": "markdown",
   "metadata": {},
   "source": [
    "#### What are you most proud of across the 4 weeks?\n",
    "\n",
    "My goal while joining the course was to be able to execute a full-stack dbt project end-to-end to power insights. I feel proud of having accomplished that goal."
   ]
  }
 ],
 "metadata": {
  "language_info": {
   "name": "python"
  },
  "orig_nbformat": 4
 },
 "nbformat": 4,
 "nbformat_minor": 2
}
