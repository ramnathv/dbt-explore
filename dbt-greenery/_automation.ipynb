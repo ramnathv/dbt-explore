{
 "cells": [
  {
   "cell_type": "code",
   "execution_count": 24,
   "metadata": {},
   "outputs": [],
   "source": [
    "import subprocess\n",
    "import yaml\n",
    "import json\n",
    "from pathlib import Path"
   ]
  },
  {
   "cell_type": "markdown",
   "metadata": {},
   "source": [
    "## Utility Functions"
   ]
  },
  {
   "cell_type": "code",
   "execution_count": 13,
   "metadata": {},
   "outputs": [
    {
     "name": "stdout",
     "output_type": "stream",
     "text": [
      "version: 2\n",
      "\n",
      "sources:\n",
      "  - name: public\n",
      "    tables:\n",
      "      - name: addresses\n",
      "      - name: events\n",
      "      - name: order_items\n",
      "      - name: orders\n",
      "      - name: products\n",
      "      - name: promos\n",
      "      - name: superheroes\n",
      "      - name: users\n"
     ]
    }
   ],
   "source": [
    "def dbt_run_operation(operation, **kwargs):\n",
    "    args_json = json.dumps(kwargs)\n",
    "    cmd = f\"dbt run-operation {operation} --args '{args_json}' | tail -n +2\"\n",
    "    out = subprocess.getoutput(cmd)\n",
    "    return(out)\n",
    "\n",
    "\n",
    "# print(dbt_run_operation('generate_source', database_name='dbt', schema_name='public'))\n"
   ]
  },
  {
   "cell_type": "code",
   "execution_count": 20,
   "metadata": {},
   "outputs": [],
   "source": [
    "def dbt_generate_source(database, schema, name):\n",
    "    source_yaml = dbt_run_operation('generate_source', database_name=database, schema_name=schema)\n",
    "    source_dict = yaml.safe_load(source_yaml)\n",
    "    return ({\n",
    "       \"version\": source_dict['version'],\n",
    "       \"sources\": [{\n",
    "           \"name\": name,\n",
    "           \"database\": database,\n",
    "           \"schema\": schema,\n",
    "           \"tables\": source_dict['sources'][0]['tables']\n",
    "       }]\n",
    "    })\n",
    "\n",
    "\n",
    "source_greenery = dbt_generate_source('dbt', 'public', 'greenery')\n",
    "\n"
   ]
  },
  {
   "cell_type": "code",
   "execution_count": 35,
   "metadata": {},
   "outputs": [
    {
     "name": "stdout",
     "output_type": "stream",
     "text": [
      "Writing source yaml for greenery to models/staging/greenery/src_greenery.yml\n"
     ]
    }
   ],
   "source": [
    "def write_as_yaml(x, file=None):\n",
    "    x_yaml = yaml.dump(x, sort_keys=False)\n",
    "    if file is None:\n",
    "      print(x_yaml)\n",
    "    else:\n",
    "      Path(file).write_text(x_yaml)\n",
    "\n",
    "def dbt_write_source(source):\n",
    "  source_name = source['sources'][0]['name']\n",
    "  source_dir = Path(f\"models/staging/{source_name}\")\n",
    "  source_dir.mkdir(parents=True, exist_ok=True)\n",
    "  source_file = source_dir / f\"src_{source_name}.yml\"\n",
    "  print(f\"Writing source yaml for {source_name} to {source_file}\")\n",
    "  write_as_yaml(source_greenery, f)\n",
    "\n",
    "dbt_write_source(source_greenery)\n",
    "\n"
   ]
  },
  {
   "cell_type": "code",
   "execution_count": null,
   "metadata": {},
   "outputs": [],
   "source": [
    "def dbt_generate_staging_models(source):\n",
    "    source_database = source['sources'][0]['database']\n",
    "    source_schema = source['sources'][0]['schema']\n",
    "    source_name = source['sources'][0]['name']\n",
    "    table_names = [table['name'] for table in source['sources'][0]['tables']]\n",
    "    staging_models = {\"name\": source_name, \"models\": {}}\n",
    "    for table_name in table_names:\n",
    "        print(table_name)\n",
    "        sql = dbt_run_operation('generate_base_model', source_name = source_name, table_name = table_name)\n",
    "        staging_models['models'][table_name] = sql\n",
    "    return staging_models\n",
    "\n",
    "staging_models_greenery = dbt_generate_staging_models(source_greenery)\n"
   ]
  },
  {
   "cell_type": "code",
   "execution_count": 57,
   "metadata": {},
   "outputs": [
    {
     "name": "stdout",
     "output_type": "stream",
     "text": [
      "Writing staging model for addresses to models/staging/greenery/stg_greenery__addresses.sql\n",
      "Writing staging model for events to models/staging/greenery/stg_greenery__events.sql\n",
      "Writing staging model for order_items to models/staging/greenery/stg_greenery__order_items.sql\n",
      "Writing staging model for orders to models/staging/greenery/stg_greenery__orders.sql\n",
      "Writing staging model for products to models/staging/greenery/stg_greenery__products.sql\n",
      "Writing staging model for promos to models/staging/greenery/stg_greenery__promos.sql\n",
      "Writing staging model for superheroes to models/staging/greenery/stg_greenery__superheroes.sql\n",
      "Writing staging model for users to models/staging/greenery/stg_greenery__users.sql\n"
     ]
    }
   ],
   "source": [
    "def dbt_write_staging_models(staging_models):\n",
    "    source_name = staging_models['name']\n",
    "    for staging_model_name, staging_model_sql in staging_models['models'].items():\n",
    "        staging_model_dir = Path(f\"models/staging/{source_name}\")\n",
    "        staging_model_dir.mkdir(parents=True, exist_ok=True)\n",
    "        staging_model_file = staging_model_dir / f\"stg_{source_name}__{staging_model_name}.sql\"\n",
    "        print(f\"Writing staging model for {staging_model_name} to {staging_model_file}\")\n",
    "        staging_model_file.write_text(staging_model_sql)\n",
    "\n",
    "dbt_write_staging_models(staging_models_greenery)\n"
   ]
  },
  {
   "cell_type": "code",
   "execution_count": 93,
   "metadata": {},
   "outputs": [
    {
     "name": "stdout",
     "output_type": "stream",
     "text": [
      "Generating yaml for staging model stg_greenery__addresses\n",
      "Generating yaml for staging model stg_greenery__events\n",
      "Generating yaml for staging model stg_greenery__order_items\n",
      "Generating yaml for staging model stg_greenery__orders\n",
      "Generating yaml for staging model stg_greenery__products\n",
      "Generating yaml for staging model stg_greenery__promos\n",
      "Generating yaml for staging model stg_greenery__superheroes\n",
      "Generating yaml for staging model stg_greenery__users\n"
     ]
    }
   ],
   "source": [
    "def dbt_generate_staging_models_yaml(staging_models):\n",
    "    source_name = staging_models['name']\n",
    "    staging_models_yaml_dict = []\n",
    "    for staging_model_name in list(staging_models['models'].keys()):\n",
    "        staging_model_name = f\"stg_{source_name}__{staging_model_name}\"\n",
    "        print(f\"Generating yaml for staging model {staging_model_name}\")\n",
    "        staging_model_yaml = dbt_run_operation('generate_model_yaml', model_name = staging_model_name)\n",
    "        staging_model_yaml_dict = yaml.safe_load(staging_model_yaml)\n",
    "        staging_models_yaml_dict = staging_models_yaml_dict + staging_model_yaml_dict['models']\n",
    "  \n",
    "    return {'name': source_name, 'models': staging_models_yaml_dict}\n",
    "\n",
    "staging_models_greenery_yaml = dbt_generate_staging_models_yaml(staging_models_greenery)\n",
    "\n",
    "    "
   ]
  },
  {
   "cell_type": "code",
   "execution_count": 97,
   "metadata": {},
   "outputs": [],
   "source": [
    "def dbt_write_staging_models_yaml(staging_models_yaml):\n",
    "   source_name = staging_models_yaml['name']\n",
    "   staging_model_yaml_file = Path(f\"models/staging/{source_name}/stg_{source_name}.yml\")\n",
    "   out = {'version': 2, 'models': staging_models_yaml['models']}\n",
    "   write_as_yaml(out, staging_model_yaml_file)\n",
    "\n",
    "dbt_write_staging_models_yaml(staging_models_greenery_yaml)\n"
   ]
  },
  {
   "cell_type": "code",
   "execution_count": 63,
   "metadata": {},
   "outputs": [
    {
     "data": {
      "text/plain": [
       "['addresses', 'events']"
      ]
     },
     "execution_count": 63,
     "metadata": {},
     "output_type": "execute_result"
    }
   ],
   "source": [
    "list(staging_models['models'].keys())[:2]"
   ]
  }
 ],
 "metadata": {
  "interpreter": {
   "hash": "625c31d6b4db3d7e7e2853cc30dc2062e1cda684f3e49d5f899ae496ae755fe0"
  },
  "kernelspec": {
   "display_name": "Python 3.8.12 64-bit ('3.8.12': pyenv)",
   "name": "python3"
  },
  "language_info": {
   "codemirror_mode": {
    "name": "ipython",
    "version": 3
   },
   "file_extension": ".py",
   "mimetype": "text/x-python",
   "name": "python",
   "nbconvert_exporter": "python",
   "pygments_lexer": "ipython3",
   "version": "3.8.12"
  },
  "orig_nbformat": 4
 },
 "nbformat": 4,
 "nbformat_minor": 2
}
